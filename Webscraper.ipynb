{
 "cells": [
  {
   "cell_type": "code",
   "execution_count": 7,
   "metadata": {},
   "outputs": [],
   "source": [
    "import pandas as pd\n",
    "import requests\n",
    "from bs4 import BeautifulSoup\n",
    "r = requests.get(\"https://pittsburgh.craigslist.org/search/mca?query=suzuki\")\n",
    "c = r.content\n",
    "soup = BeautifulSoup(c, \"html.parser\")\n",
    "data = soup.find_all(\"li\", {\"class\":\"result-row\"})\n",
    "url = []\n",
    "for i in data:\n",
    "    url.append(i.a['href'])"
   ]
  },
  {
   "cell_type": "code",
   "execution_count": 8,
   "metadata": {},
   "outputs": [],
   "source": [
    "l=[]\n",
    "for x in data:\n",
    "    d={}\n",
    "    d[\"Name\"]=(x.p.a.text)\n",
    "    d['Date']=(x.p.time.text)\n",
    "    d[\"Price\"]=(x.find(\"span\",{\"class\":\"result-price\"}).text)  \n",
    "    l.append(d)"
   ]
  },
  {
   "cell_type": "code",
   "execution_count": 10,
   "metadata": {},
   "outputs": [],
   "source": [
    "y=[]\n",
    "for i in range(0,len(url)):\n",
    "    r = requests.get(url = url[i])\n",
    "    c = r.content\n",
    "    soup = BeautifulSoup(c, \"html.parser\")\n",
    "    data_2 = soup.find_all(\"p\",{\"class\":\"attrgroup\"})\n",
    "    x = data_2[1].text.replace(\"\\n\",\" \").strip().replace(\": \", \":\").replace(\" \", \"_\").split(\"__\")\n",
    "    D.append(x)"
   ]
  },
  {
   "cell_type": "code",
   "execution_count": 6,
   "metadata": {},
   "outputs": [],
   "source": [
    "df= pd.DataFrame(l)"
   ]
  },
  {
   "cell_type": "code",
   "execution_count": null,
   "metadata": {},
   "outputs": [],
   "source": []
  },
  {
   "cell_type": "code",
   "execution_count": null,
   "metadata": {},
   "outputs": [],
   "source": []
  }
 ],
 "metadata": {
  "kernelspec": {
   "display_name": "Python 3",
   "language": "python",
   "name": "python3"
  },
  "language_info": {
   "codemirror_mode": {
    "name": "ipython",
    "version": 3
   },
   "file_extension": ".py",
   "mimetype": "text/x-python",
   "name": "python",
   "nbconvert_exporter": "python",
   "pygments_lexer": "ipython3",
   "version": "3.7.1"
  }
 },
 "nbformat": 4,
 "nbformat_minor": 2
}
